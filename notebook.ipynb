{
 "cells": [
  {
   "cell_type": "markdown",
   "id": "a81548e2",
   "metadata": {},
   "source": [
    "# Import library yang diperlukan"
   ]
  },
  {
   "cell_type": "code",
   "execution_count": 1,
   "id": "784218ec",
   "metadata": {},
   "outputs": [],
   "source": [
    "import pandas as pd\n",
    "import numpy as np\n",
    "import matplotlib.pyplot as plt\n",
    "import seaborn as sns\n",
    "from sklearn.feature_extraction.text import TfidfVectorizer\n",
    "from sklearn.metrics.pairwise import cosine_similarity\n",
    "import tensorflow as tf\n",
    "from tensorflow import keras\n",
    "from tensorflow.keras import layers\n",
    "from pathlib import Path"
   ]
  },
  {
   "cell_type": "markdown",
   "id": "0f1df791",
   "metadata": {},
   "source": [
    "# Load dataset"
   ]
  },
  {
   "cell_type": "code",
   "execution_count": 2,
   "id": "caf7c358",
   "metadata": {},
   "outputs": [
    {
     "name": "stdout",
     "output_type": "stream",
     "text": [
      "Jumlah data unik movie :  9742\n",
      "Jumlah data rating unik dari user :  610\n",
      "Jumlah data rating unik pada movie :  9724\n",
      "Jumlah data :  1572\n"
     ]
    }
   ],
   "source": [
    "mov_url='https://drive.google.com/uc?id=18ZGo-gedjmX3T7l722lpjin-FksU9Ihb'\n",
    "rat_url='https://drive.google.com/uc?id=1nSAaKm7SAOqkuqvJA9_W8F_VvomRs89Y'\n",
    "tag_url='https://drive.google.com/uc?id=1hohqLqlWaGWdVnM_nAlSb5zVT3-kEwOt'\n",
    "\n",
    "movies = pd.read_csv(mov_url)\n",
    "ratings = pd.read_csv(rat_url)\n",
    "tags = pd.read_csv(tag_url)\n",
    "\n",
    "print('Jumlah data unik movie : ', len(movies.movieId.unique()))\n",
    "print('Jumlah data rating unik dari user : ', len(ratings.userId.unique()))\n",
    "print('Jumlah data rating unik pada movie : ', len(ratings.movieId.unique()))\n",
    "print('Jumlah data : ', len(tags.movieId.unique()))"
   ]
  },
  {
   "cell_type": "markdown",
   "id": "3378d20e",
   "metadata": {},
   "source": [
    "Untuk jumlah data dengan nilai unik pada tiap kolom memiliki nilai yang berbeda seperti data movieId terdapat 9742 data mau itu pada file movies dan ratings, untuk data unik di user yang memberikan rating ada sebanyak 610 data dan user yang memberikan tag ada sebanyak 1572 data."
   ]
  },
  {
   "cell_type": "markdown",
   "id": "6508bd2f",
   "metadata": {},
   "source": [
    "# Data Understanding"
   ]
  },
  {
   "cell_type": "code",
   "execution_count": 3,
   "id": "68017a7d",
   "metadata": {},
   "outputs": [
    {
     "name": "stdout",
     "output_type": "stream",
     "text": [
      "\n",
      "Movies Info:\n",
      "<class 'pandas.core.frame.DataFrame'>\n",
      "RangeIndex: 9742 entries, 0 to 9741\n",
      "Data columns (total 3 columns):\n",
      " #   Column   Non-Null Count  Dtype \n",
      "---  ------   --------------  ----- \n",
      " 0   movieId  9742 non-null   int64 \n",
      " 1   title    9742 non-null   object\n",
      " 2   genres   9742 non-null   object\n",
      "dtypes: int64(1), object(2)\n",
      "memory usage: 228.5+ KB\n",
      "None\n"
     ]
    }
   ],
   "source": [
    "print(\"\\nMovies Info:\")\n",
    "print(movies.info())"
   ]
  },
  {
   "cell_type": "code",
   "execution_count": 4,
   "id": "52811121",
   "metadata": {},
   "outputs": [
    {
     "name": "stdout",
     "output_type": "stream",
     "text": [
      "\n",
      "Ratings Info:\n",
      "<class 'pandas.core.frame.DataFrame'>\n",
      "RangeIndex: 100836 entries, 0 to 100835\n",
      "Data columns (total 4 columns):\n",
      " #   Column     Non-Null Count   Dtype  \n",
      "---  ------     --------------   -----  \n",
      " 0   userId     100836 non-null  int64  \n",
      " 1   movieId    100836 non-null  int64  \n",
      " 2   rating     100836 non-null  float64\n",
      " 3   timestamp  100836 non-null  int64  \n",
      "dtypes: float64(1), int64(3)\n",
      "memory usage: 3.1 MB\n",
      "None\n",
      "\n",
      "Tags Info:\n",
      "<class 'pandas.core.frame.DataFrame'>\n",
      "RangeIndex: 3683 entries, 0 to 3682\n",
      "Data columns (total 4 columns):\n",
      " #   Column     Non-Null Count  Dtype \n",
      "---  ------     --------------  ----- \n",
      " 0   userId     3683 non-null   int64 \n",
      " 1   movieId    3683 non-null   int64 \n",
      " 2   tag        3683 non-null   object\n",
      " 3   timestamp  3683 non-null   int64 \n",
      "dtypes: int64(3), object(1)\n",
      "memory usage: 115.2+ KB\n",
      "None\n"
     ]
    }
   ],
   "source": [
    "print(\"\\nRatings Info:\")\n",
    "print(ratings.info())\n",
    "print(\"\\nTags Info:\")\n",
    "print(tags.info())"
   ]
  },
  {
   "cell_type": "code",
   "execution_count": 8,
   "id": "43fab08a",
   "metadata": {},
   "outputs": [
    {
     "name": "stdout",
     "output_type": "stream",
     "text": [
      "\n",
      "Missing values movies:\n",
      "movieId    0\n",
      "title      0\n",
      "genres     0\n",
      "dtype: int64\n",
      "\n",
      "Missing values ratings:\n",
      "userId       0\n",
      "movieId      0\n",
      "rating       0\n",
      "timestamp    0\n",
      "dtype: int64\n",
      "\n",
      "Missing values tags:\n",
      "userId       0\n",
      "movieId      0\n",
      "tag          0\n",
      "timestamp    0\n",
      "dtype: int64\n"
     ]
    }
   ],
   "source": [
    "print(\"\\nMissing values movies:\")\n",
    "print(movies.isnull().sum())\n",
    "print(\"\\nMissing values ratings:\")\n",
    "print(ratings.isnull().sum())\n",
    "print(\"\\nMissing values tags:\")\n",
    "print(tags.isnull().sum())"
   ]
  },
  {
   "cell_type": "code",
   "execution_count": 12,
   "id": "01f3e1f5",
   "metadata": {},
   "outputs": [
    {
     "name": "stdout",
     "output_type": "stream",
     "text": [
      "Duplikat movies: 0\n",
      "Duplikat ratings: 0\n",
      "Duplikat tags: 0\n"
     ]
    }
   ],
   "source": [
    "print(\"Duplikat movies:\", movies.duplicated().sum())\n",
    "print(\"Duplikat ratings:\", ratings.duplicated().sum())\n",
    "print(\"Duplikat tags:\", tags.duplicated().sum())"
   ]
  },
  {
   "cell_type": "code",
   "execution_count": 15,
   "id": "fed523cb",
   "metadata": {},
   "outputs": [
    {
     "data": {
      "image/png": "[encoded data removed]",
      "text/plain": [
       "<Figure size 640x480 with 1 Axes>"
      ]
     },
     "metadata": {},
     "output_type": "display_data"
    }
   ],
   "source": [
    "sns.boxplot(x=ratings['rating'])\n",
    "plt.title(\"Boxplot Rating\")\n",
    "plt.show()"
   ]
  },
  {
   "cell_type": "code",
   "execution_count": 16,
   "id": "14a7cc53",
   "metadata": {},
   "outputs": [
    {
     "data": {
      "text/html": [
       "<div>\n",
       "<style scoped>\n",
       "    .dataframe tbody tr th:only-of-type {\n",
       "        vertical-align: middle;\n",
       "    }\n",
       "\n",
       "    .dataframe tbody tr th {\n",
       "        vertical-align: top;\n",
       "    }\n",
       "\n",
       "    .dataframe thead th {\n",
       "        text-align: right;\n",
       "    }\n",
       "</style>\n",
       "<table border=\"1\" class=\"dataframe\">\n",
       "  <thead>\n",
       "    <tr style=\"text-align: right;\">\n",
       "      <th></th>\n",
       "      <th>userId</th>\n",
       "      <th>movieId</th>\n",
       "      <th>rating</th>\n",
       "      <th>timestamp</th>\n",
       "    </tr>\n",
       "  </thead>\n",
       "  <tbody>\n",
       "    <tr>\n",
       "      <th>count</th>\n",
       "      <td>100836.000000</td>\n",
       "      <td>100836.000000</td>\n",
       "      <td>100836.000000</td>\n",
       "      <td>1.008360e+05</td>\n",
       "    </tr>\n",
       "    <tr>\n",
       "      <th>mean</th>\n",
       "      <td>326.127564</td>\n",
       "      <td>19435.295718</td>\n",
       "      <td>3.501557</td>\n",
       "      <td>1.205946e+09</td>\n",
       "    </tr>\n",
       "    <tr>\n",
       "      <th>std</th>\n",
       "      <td>182.618491</td>\n",
       "      <td>35530.987199</td>\n",
       "      <td>1.042529</td>\n",
       "      <td>2.162610e+08</td>\n",
       "    </tr>\n",
       "    <tr>\n",
       "      <th>min</th>\n",
       "      <td>1.000000</td>\n",
       "      <td>1.000000</td>\n",
       "      <td>0.500000</td>\n",
       "      <td>8.281246e+08</td>\n",
       "    </tr>\n",
       "    <tr>\n",
       "      <th>25%</th>\n",
       "      <td>177.000000</td>\n",
       "      <td>1199.000000</td>\n",
       "      <td>3.000000</td>\n",
       "      <td>1.019124e+09</td>\n",
       "    </tr>\n",
       "    <tr>\n",
       "      <th>50%</th>\n",
       "      <td>325.000000</td>\n",
       "      <td>2991.000000</td>\n",
       "      <td>3.500000</td>\n",
       "      <td>1.186087e+09</td>\n",
       "    </tr>\n",
       "    <tr>\n",
       "      <th>75%</th>\n",
       "      <td>477.000000</td>\n",
       "      <td>8122.000000</td>\n",
       "      <td>4.000000</td>\n",
       "      <td>1.435994e+09</td>\n",
       "    </tr>\n",
       "    <tr>\n",
       "      <th>max</th>\n",
       "      <td>610.000000</td>\n",
       "      <td>193609.000000</td>\n",
       "      <td>5.000000</td>\n",
       "      <td>1.537799e+09</td>\n",
       "    </tr>\n",
       "  </tbody>\n",
       "</table>\n",
       "</div>"
      ],
      "text/plain": [
       "              userId        movieId         rating     timestamp\n",
       "count  100836.000000  100836.000000  100836.000000  1.008360e+05\n",
       "mean      326.127564   19435.295718       3.501557  1.205946e+09\n",
       "std       182.618491   35530.987199       1.042529  2.162610e+08\n",
       "min         1.000000       1.000000       0.500000  8.281246e+08\n",
       "25%       177.000000    1199.000000       3.000000  1.019124e+09\n",
       "50%       325.000000    2991.000000       3.500000  1.186087e+09\n",
       "75%       477.000000    8122.000000       4.000000  1.435994e+09\n",
       "max       610.000000  193609.000000       5.000000  1.537799e+09"
      ]
     },
     "execution_count": 16,
     "metadata": {},
     "output_type": "execute_result"
    }
   ],
   "source": [
    "ratings.describe()"
   ]
  },
  {
   "cell_type": "code",
   "execution_count": null,
   "id": "19f85f8d",
   "metadata": {},
   "outputs": [
    {
     "name": "stdout",
     "output_type": "stream",
     "text": [
      "\n",
      "=== Univariate Analysis ===\n",
      "\n",
      "Movies Head:\n"
     ]
    },
    {
     "data": {
      "text/html": [
       "<div>\n",
       "<style scoped>\n",
       "    .dataframe tbody tr th:only-of-type {\n",
       "        vertical-align: middle;\n",
       "    }\n",
       "\n",
       "    .dataframe tbody tr th {\n",
       "        vertical-align: top;\n",
       "    }\n",
       "\n",
       "    .dataframe thead th {\n",
       "        text-align: right;\n",
       "    }\n",
       "</style>\n",
       "<table border=\"1\" class=\"dataframe\">\n",
       "  <thead>\n",
       "    <tr style=\"text-align: right;\">\n",
       "      <th></th>\n",
       "      <th>movieId</th>\n",
       "      <th>title</th>\n",
       "      <th>genres</th>\n",
       "    </tr>\n",
       "  </thead>\n",
       "  <tbody>\n",
       "    <tr>\n",
       "      <th>0</th>\n",
       "      <td>1</td>\n",
       "      <td>Toy Story (1995)</td>\n",
       "      <td>Adventure|Animation|Children|Comedy|Fantasy</td>\n",
       "    </tr>\n",
       "    <tr>\n",
       "      <th>1</th>\n",
       "      <td>2</td>\n",
       "      <td>Jumanji (1995)</td>\n",
       "      <td>Adventure|Children|Fantasy</td>\n",
       "    </tr>\n",
       "    <tr>\n",
       "      <th>2</th>\n",
       "      <td>3</td>\n",
       "      <td>Grumpier Old Men (1995)</td>\n",
       "      <td>Comedy|Romance</td>\n",
       "    </tr>\n",
       "    <tr>\n",
       "      <th>3</th>\n",
       "      <td>4</td>\n",
       "      <td>Waiting to Exhale (1995)</td>\n",
       "      <td>Comedy|Drama|Romance</td>\n",
       "    </tr>\n",
       "    <tr>\n",
       "      <th>4</th>\n",
       "      <td>5</td>\n",
       "      <td>Father of the Bride Part II (1995)</td>\n",
       "      <td>Comedy</td>\n",
       "    </tr>\n",
       "  </tbody>\n",
       "</table>\n",
       "</div>"
      ],
      "text/plain": [
       "   movieId                               title  \\\n",
       "0        1                    Toy Story (1995)   \n",
       "1        2                      Jumanji (1995)   \n",
       "2        3             Grumpier Old Men (1995)   \n",
       "3        4            Waiting to Exhale (1995)   \n",
       "4        5  Father of the Bride Part II (1995)   \n",
       "\n",
       "                                        genres  \n",
       "0  Adventure|Animation|Children|Comedy|Fantasy  \n",
       "1                   Adventure|Children|Fantasy  \n",
       "2                               Comedy|Romance  \n",
       "3                         Comedy|Drama|Romance  \n",
       "4                                       Comedy  "
      ]
     },
     "execution_count": 5,
     "metadata": {},
     "output_type": "execute_result"
    }
   ],
   "source": [
    "print(\"\\nMovies Head:\")\n",
    "movies.head()"
   ]
  },
  {
   "cell_type": "code",
   "execution_count": 6,
   "id": "23296e1f",
   "metadata": {},
   "outputs": [
    {
     "name": "stdout",
     "output_type": "stream",
     "text": [
      "\n",
      "Ratings Head:\n"
     ]
    },
    {
     "data": {
      "text/html": [
       "<div>\n",
       "<style scoped>\n",
       "    .dataframe tbody tr th:only-of-type {\n",
       "        vertical-align: middle;\n",
       "    }\n",
       "\n",
       "    .dataframe tbody tr th {\n",
       "        vertical-align: top;\n",
       "    }\n",
       "\n",
       "    .dataframe thead th {\n",
       "        text-align: right;\n",
       "    }\n",
       "</style>\n",
       "<table border=\"1\" class=\"dataframe\">\n",
       "  <thead>\n",
       "    <tr style=\"text-align: right;\">\n",
       "      <th></th>\n",
       "      <th>userId</th>\n",
       "      <th>movieId</th>\n",
       "      <th>rating</th>\n",
       "      <th>timestamp</th>\n",
       "    </tr>\n",
       "  </thead>\n",
       "  <tbody>\n",
       "    <tr>\n",
       "      <th>0</th>\n",
       "      <td>1</td>\n",
       "      <td>1</td>\n",
       "      <td>4.0</td>\n",
       "      <td>964982703</td>\n",
       "    </tr>\n",
       "    <tr>\n",
       "      <th>1</th>\n",
       "      <td>1</td>\n",
       "      <td>3</td>\n",
       "      <td>4.0</td>\n",
       "      <td>964981247</td>\n",
       "    </tr>\n",
       "    <tr>\n",
       "      <th>2</th>\n",
       "      <td>1</td>\n",
       "      <td>6</td>\n",
       "      <td>4.0</td>\n",
       "      <td>964982224</td>\n",
       "    </tr>\n",
       "    <tr>\n",
       "      <th>3</th>\n",
       "      <td>1</td>\n",
       "      <td>47</td>\n",
       "      <td>5.0</td>\n",
       "      <td>964983815</td>\n",
       "    </tr>\n",
       "    <tr>\n",
       "      <th>4</th>\n",
       "      <td>1</td>\n",
       "      <td>50</td>\n",
       "      <td>5.0</td>\n",
       "      <td>964982931</td>\n",
       "    </tr>\n",
       "  </tbody>\n",
       "</table>\n",
       "</div>"
      ],
      "text/plain": [
       "   userId  movieId  rating  timestamp\n",
       "0       1        1     4.0  964982703\n",
       "1       1        3     4.0  964981247\n",
       "2       1        6     4.0  964982224\n",
       "3       1       47     5.0  964983815\n",
       "4       1       50     5.0  964982931"
      ]
     },
     "execution_count": 6,
     "metadata": {},
     "output_type": "execute_result"
    }
   ],
   "source": [
    "print(\"\\nRatings Head:\")\n",
    "ratings.head()"
   ]
  },
  {
   "cell_type": "code",
   "execution_count": 7,
   "id": "7e27ee3b",
   "metadata": {},
   "outputs": [
    {
     "name": "stdout",
     "output_type": "stream",
     "text": [
      "\n",
      "Tags Head:\n"
     ]
    },
    {
     "data": {
      "text/html": [
       "<div>\n",
       "<style scoped>\n",
       "    .dataframe tbody tr th:only-of-type {\n",
       "        vertical-align: middle;\n",
       "    }\n",
       "\n",
       "    .dataframe tbody tr th {\n",
       "        vertical-align: top;\n",
       "    }\n",
       "\n",
       "    .dataframe thead th {\n",
       "        text-align: right;\n",
       "    }\n",
       "</style>\n",
       "<table border=\"1\" class=\"dataframe\">\n",
       "  <thead>\n",
       "    <tr style=\"text-align: right;\">\n",
       "      <th></th>\n",
       "      <th>userId</th>\n",
       "      <th>movieId</th>\n",
       "      <th>tag</th>\n",
       "      <th>timestamp</th>\n",
       "    </tr>\n",
       "  </thead>\n",
       "  <tbody>\n",
       "    <tr>\n",
       "      <th>0</th>\n",
       "      <td>2</td>\n",
       "      <td>60756</td>\n",
       "      <td>funny</td>\n",
       "      <td>1445714994</td>\n",
       "    </tr>\n",
       "    <tr>\n",
       "      <th>1</th>\n",
       "      <td>2</td>\n",
       "      <td>60756</td>\n",
       "      <td>Highly quotable</td>\n",
       "      <td>1445714996</td>\n",
       "    </tr>\n",
       "    <tr>\n",
       "      <th>2</th>\n",
       "      <td>2</td>\n",
       "      <td>60756</td>\n",
       "      <td>will ferrell</td>\n",
       "      <td>1445714992</td>\n",
       "    </tr>\n",
       "    <tr>\n",
       "      <th>3</th>\n",
       "      <td>2</td>\n",
       "      <td>89774</td>\n",
       "      <td>Boxing story</td>\n",
       "      <td>1445715207</td>\n",
       "    </tr>\n",
       "    <tr>\n",
       "      <th>4</th>\n",
       "      <td>2</td>\n",
       "      <td>89774</td>\n",
       "      <td>MMA</td>\n",
       "      <td>1445715200</td>\n",
       "    </tr>\n",
       "  </tbody>\n",
       "</table>\n",
       "</div>"
      ],
      "text/plain": [
       "   userId  movieId              tag   timestamp\n",
       "0       2    60756            funny  1445714994\n",
       "1       2    60756  Highly quotable  1445714996\n",
       "2       2    60756     will ferrell  1445714992\n",
       "3       2    89774     Boxing story  1445715207\n",
       "4       2    89774              MMA  1445715200"
      ]
     },
     "execution_count": 7,
     "metadata": {},
     "output_type": "execute_result"
    }
   ],
   "source": [
    "print(\"\\nTags Head:\")\n",
    "tags.head()"
   ]
  },
  {
   "cell_type": "markdown",
   "id": "85870792",
   "metadata": {},
   "source": [
    "**Insight**:\n",
    "\n",
    "1. File ```movies.csv```, terdiri dari 9742 data dan 3 kolom dengan beberapa kolom sebagai berikut. (movies: daftar film yang tersedia)\n",
    "    - movieId: id unik yang ada pada tiap film dengan tipe data integer.\n",
    "    - title: Judul dari film-film yang tersedia dengan tipe data object.\n",
    "    - genres: kategori yanga ada pada tiap film dengan tipe data object.\n",
    "2. File ```ratings.csv```, terdiri dari 101 ribu data dan 4 kolom berbeda dengan variabel berikut. (ratings: penilaian dari pengguna)\n",
    "    - userId: id unik yang dimiliki para penonton dengan tipe data integer.\n",
    "    - movieId: id unik yang ada pada tiap film dengan tipe data integer.\n",
    "    - rating: penilaian yang diberikan oleh penonton ke film yang mereka lihat dengan tipe data float.\n",
    "    - timestamp: tanda waktu yang menandai kapan suatu peristiwa terjadi dengan tipe data integer.\n",
    "3. File ```tags.csv```, terdiri dari 3683 data dan 4 kolom dengan variabel berikut. (tags: kata kunci untuk film)\n",
    "    - userId: id unik yang dimiliki para penonton dengan tipe data integer.\n",
    "    - movieId: id unik yang ada pada tiap film dengan tipe data integer.\n",
    "    - tag: daftar kata kunci untuk film dengan tipe data object.\n",
    "    - timestamp: tanda waktu yang menandai kapan suatu peristiwa terjadi dengan tipe data integer.\n",
    "4. Tidak ditemukan adanya missing value pada ketiga data.\n",
    "5. Tidak ada data yang terduplikat pada ketiga data.\n",
    "6. Dalam mengecek dari boxplot dan .describe() tidak ditemukan data yang aneh."
   ]
  },
  {
   "cell_type": "markdown",
   "id": "8d7427d1",
   "metadata": {},
   "source": [
    "# Data Preprocessing"
   ]
  },
  {
   "cell_type": "code",
   "execution_count": 8,
   "id": "256be202",
   "metadata": {},
   "outputs": [],
   "source": [
    "# Menggabungkan genre dan tag untuk fitur content-based\n",
    "movie_tags = tags.groupby('movieId')['tag'].apply(lambda x: '|'.join(x)).reset_index()\n",
    "movies = pd.merge(movies, movie_tags, on='movieId', how='left')"
   ]
  },
  {
   "cell_type": "markdown",
   "id": "812acc18",
   "metadata": {},
   "source": [
    "Tahap ini bertujuan untuk menggabungkan semua ```tag``` untuk setiap film menjadi satu string yang dipisahkan oleh \"|\" dan digabungkan ke dalam dataframe movies berdasarkan ```movieId```."
   ]
  },
  {
   "cell_type": "code",
   "execution_count": 9,
   "id": "0c91950b",
   "metadata": {},
   "outputs": [
    {
     "data": {
      "text/html": [
       "<div>\n",
       "<style scoped>\n",
       "    .dataframe tbody tr th:only-of-type {\n",
       "        vertical-align: middle;\n",
       "    }\n",
       "\n",
       "    .dataframe tbody tr th {\n",
       "        vertical-align: top;\n",
       "    }\n",
       "\n",
       "    .dataframe thead th {\n",
       "        text-align: right;\n",
       "    }\n",
       "</style>\n",
       "<table border=\"1\" class=\"dataframe\">\n",
       "  <thead>\n",
       "    <tr style=\"text-align: right;\">\n",
       "      <th></th>\n",
       "      <th>movieId</th>\n",
       "      <th>title</th>\n",
       "      <th>genres</th>\n",
       "      <th>tag</th>\n",
       "    </tr>\n",
       "  </thead>\n",
       "  <tbody>\n",
       "    <tr>\n",
       "      <th>0</th>\n",
       "      <td>1</td>\n",
       "      <td>Toy Story (1995)</td>\n",
       "      <td>Adventure|Animation|Children|Comedy|Fantasy</td>\n",
       "      <td>pixar|pixar|fun</td>\n",
       "    </tr>\n",
       "    <tr>\n",
       "      <th>1</th>\n",
       "      <td>2</td>\n",
       "      <td>Jumanji (1995)</td>\n",
       "      <td>Adventure|Children|Fantasy</td>\n",
       "      <td>fantasy|magic board game|Robin Williams|game</td>\n",
       "    </tr>\n",
       "    <tr>\n",
       "      <th>2</th>\n",
       "      <td>3</td>\n",
       "      <td>Grumpier Old Men (1995)</td>\n",
       "      <td>Comedy|Romance</td>\n",
       "      <td>moldy|old</td>\n",
       "    </tr>\n",
       "    <tr>\n",
       "      <th>3</th>\n",
       "      <td>4</td>\n",
       "      <td>Waiting to Exhale (1995)</td>\n",
       "      <td>Comedy|Drama|Romance</td>\n",
       "      <td>NaN</td>\n",
       "    </tr>\n",
       "    <tr>\n",
       "      <th>4</th>\n",
       "      <td>5</td>\n",
       "      <td>Father of the Bride Part II (1995)</td>\n",
       "      <td>Comedy</td>\n",
       "      <td>pregnancy|remake</td>\n",
       "    </tr>\n",
       "  </tbody>\n",
       "</table>\n",
       "</div>"
      ],
      "text/plain": [
       "   movieId                               title  \\\n",
       "0        1                    Toy Story (1995)   \n",
       "1        2                      Jumanji (1995)   \n",
       "2        3             Grumpier Old Men (1995)   \n",
       "3        4            Waiting to Exhale (1995)   \n",
       "4        5  Father of the Bride Part II (1995)   \n",
       "\n",
       "                                        genres  \\\n",
       "0  Adventure|Animation|Children|Comedy|Fantasy   \n",
       "1                   Adventure|Children|Fantasy   \n",
       "2                               Comedy|Romance   \n",
       "3                         Comedy|Drama|Romance   \n",
       "4                                       Comedy   \n",
       "\n",
       "                                            tag  \n",
       "0                               pixar|pixar|fun  \n",
       "1  fantasy|magic board game|Robin Williams|game  \n",
       "2                                     moldy|old  \n",
       "3                                           NaN  \n",
       "4                              pregnancy|remake  "
      ]
     },
     "execution_count": 9,
     "metadata": {},
     "output_type": "execute_result"
    }
   ],
   "source": [
    "movies.head()"
   ]
  },
  {
   "cell_type": "code",
   "execution_count": 10,
   "id": "9019cc6d",
   "metadata": {},
   "outputs": [],
   "source": [
    "# Membuat kolom baru tags\n",
    "movies['tags'] = movies['tag'].fillna('') + ' ' + movies['genres'].str.replace('|', ' ')"
   ]
  },
  {
   "cell_type": "markdown",
   "id": "718f0ed3",
   "metadata": {},
   "source": [
    "Membuat kolom baru yang bertujuan menyatukan antara tag dengan genre pada film."
   ]
  },
  {
   "cell_type": "code",
   "execution_count": 11,
   "id": "bb3c6bcd",
   "metadata": {},
   "outputs": [
    {
     "data": {
      "text/html": [
       "<div>\n",
       "<style scoped>\n",
       "    .dataframe tbody tr th:only-of-type {\n",
       "        vertical-align: middle;\n",
       "    }\n",
       "\n",
       "    .dataframe tbody tr th {\n",
       "        vertical-align: top;\n",
       "    }\n",
       "\n",
       "    .dataframe thead th {\n",
       "        text-align: right;\n",
       "    }\n",
       "</style>\n",
       "<table border=\"1\" class=\"dataframe\">\n",
       "  <thead>\n",
       "    <tr style=\"text-align: right;\">\n",
       "      <th></th>\n",
       "      <th>movieId</th>\n",
       "      <th>title</th>\n",
       "      <th>genres</th>\n",
       "      <th>tag</th>\n",
       "      <th>tags</th>\n",
       "    </tr>\n",
       "  </thead>\n",
       "  <tbody>\n",
       "    <tr>\n",
       "      <th>0</th>\n",
       "      <td>1</td>\n",
       "      <td>Toy Story (1995)</td>\n",
       "      <td>Adventure|Animation|Children|Comedy|Fantasy</td>\n",
       "      <td>pixar|pixar|fun</td>\n",
       "      <td>pixar|pixar|fun Adventure Animation Children C...</td>\n",
       "    </tr>\n",
       "    <tr>\n",
       "      <th>1</th>\n",
       "      <td>2</td>\n",
       "      <td>Jumanji (1995)</td>\n",
       "      <td>Adventure|Children|Fantasy</td>\n",
       "      <td>fantasy|magic board game|Robin Williams|game</td>\n",
       "      <td>fantasy|magic board game|Robin Williams|game A...</td>\n",
       "    </tr>\n",
       "    <tr>\n",
       "      <th>2</th>\n",
       "      <td>3</td>\n",
       "      <td>Grumpier Old Men (1995)</td>\n",
       "      <td>Comedy|Romance</td>\n",
       "      <td>moldy|old</td>\n",
       "      <td>moldy|old Comedy Romance</td>\n",
       "    </tr>\n",
       "    <tr>\n",
       "      <th>3</th>\n",
       "      <td>4</td>\n",
       "      <td>Waiting to Exhale (1995)</td>\n",
       "      <td>Comedy|Drama|Romance</td>\n",
       "      <td>NaN</td>\n",
       "      <td>Comedy Drama Romance</td>\n",
       "    </tr>\n",
       "    <tr>\n",
       "      <th>4</th>\n",
       "      <td>5</td>\n",
       "      <td>Father of the Bride Part II (1995)</td>\n",
       "      <td>Comedy</td>\n",
       "      <td>pregnancy|remake</td>\n",
       "      <td>pregnancy|remake Comedy</td>\n",
       "    </tr>\n",
       "  </tbody>\n",
       "</table>\n",
       "</div>"
      ],
      "text/plain": [
       "   movieId                               title  \\\n",
       "0        1                    Toy Story (1995)   \n",
       "1        2                      Jumanji (1995)   \n",
       "2        3             Grumpier Old Men (1995)   \n",
       "3        4            Waiting to Exhale (1995)   \n",
       "4        5  Father of the Bride Part II (1995)   \n",
       "\n",
       "                                        genres  \\\n",
       "0  Adventure|Animation|Children|Comedy|Fantasy   \n",
       "1                   Adventure|Children|Fantasy   \n",
       "2                               Comedy|Romance   \n",
       "3                         Comedy|Drama|Romance   \n",
       "4                                       Comedy   \n",
       "\n",
       "                                            tag  \\\n",
       "0                               pixar|pixar|fun   \n",
       "1  fantasy|magic board game|Robin Williams|game   \n",
       "2                                     moldy|old   \n",
       "3                                           NaN   \n",
       "4                              pregnancy|remake   \n",
       "\n",
       "                                                tags  \n",
       "0  pixar|pixar|fun Adventure Animation Children C...  \n",
       "1  fantasy|magic board game|Robin Williams|game A...  \n",
       "2                           moldy|old Comedy Romance  \n",
       "3                               Comedy Drama Romance  \n",
       "4                            pregnancy|remake Comedy  "
      ]
     },
     "execution_count": 11,
     "metadata": {},
     "output_type": "execute_result"
    }
   ],
   "source": [
    "movies.head()"
   ]
  },
  {
   "cell_type": "code",
   "execution_count": 12,
   "id": "0e713bd6",
   "metadata": {},
   "outputs": [],
   "source": [
    "# Membersihkan data\n",
    "movies['tags'] = movies['tags'].str.strip()\n",
    "movies['tags'] = movies['tags'].fillna('')"
   ]
  },
  {
   "cell_type": "markdown",
   "id": "1183123b",
   "metadata": {},
   "source": [
    "Data akan dibersihkan dengan menghapus spasi berlebih di awal/akhir string kemudian mengisi nilai kosong (NaN) dengan string kosong agar tidak error saat vektorisasi."
   ]
  },
  {
   "cell_type": "code",
   "execution_count": 13,
   "id": "ce6635b6",
   "metadata": {},
   "outputs": [
    {
     "data": {
      "text/html": [
       "<div>\n",
       "<style scoped>\n",
       "    .dataframe tbody tr th:only-of-type {\n",
       "        vertical-align: middle;\n",
       "    }\n",
       "\n",
       "    .dataframe tbody tr th {\n",
       "        vertical-align: top;\n",
       "    }\n",
       "\n",
       "    .dataframe thead th {\n",
       "        text-align: right;\n",
       "    }\n",
       "</style>\n",
       "<table border=\"1\" class=\"dataframe\">\n",
       "  <thead>\n",
       "    <tr style=\"text-align: right;\">\n",
       "      <th></th>\n",
       "      <th>movieId</th>\n",
       "      <th>title</th>\n",
       "      <th>genres</th>\n",
       "      <th>tag</th>\n",
       "      <th>tags</th>\n",
       "    </tr>\n",
       "  </thead>\n",
       "  <tbody>\n",
       "    <tr>\n",
       "      <th>0</th>\n",
       "      <td>1</td>\n",
       "      <td>Toy Story (1995)</td>\n",
       "      <td>Adventure|Animation|Children|Comedy|Fantasy</td>\n",
       "      <td>pixar|pixar|fun</td>\n",
       "      <td>pixar|pixar|fun Adventure Animation Children C...</td>\n",
       "    </tr>\n",
       "    <tr>\n",
       "      <th>1</th>\n",
       "      <td>2</td>\n",
       "      <td>Jumanji (1995)</td>\n",
       "      <td>Adventure|Children|Fantasy</td>\n",
       "      <td>fantasy|magic board game|Robin Williams|game</td>\n",
       "      <td>fantasy|magic board game|Robin Williams|game A...</td>\n",
       "    </tr>\n",
       "    <tr>\n",
       "      <th>2</th>\n",
       "      <td>3</td>\n",
       "      <td>Grumpier Old Men (1995)</td>\n",
       "      <td>Comedy|Romance</td>\n",
       "      <td>moldy|old</td>\n",
       "      <td>moldy|old Comedy Romance</td>\n",
       "    </tr>\n",
       "    <tr>\n",
       "      <th>3</th>\n",
       "      <td>4</td>\n",
       "      <td>Waiting to Exhale (1995)</td>\n",
       "      <td>Comedy|Drama|Romance</td>\n",
       "      <td>NaN</td>\n",
       "      <td>Comedy Drama Romance</td>\n",
       "    </tr>\n",
       "    <tr>\n",
       "      <th>4</th>\n",
       "      <td>5</td>\n",
       "      <td>Father of the Bride Part II (1995)</td>\n",
       "      <td>Comedy</td>\n",
       "      <td>pregnancy|remake</td>\n",
       "      <td>pregnancy|remake Comedy</td>\n",
       "    </tr>\n",
       "  </tbody>\n",
       "</table>\n",
       "</div>"
      ],
      "text/plain": [
       "   movieId                               title  \\\n",
       "0        1                    Toy Story (1995)   \n",
       "1        2                      Jumanji (1995)   \n",
       "2        3             Grumpier Old Men (1995)   \n",
       "3        4            Waiting to Exhale (1995)   \n",
       "4        5  Father of the Bride Part II (1995)   \n",
       "\n",
       "                                        genres  \\\n",
       "0  Adventure|Animation|Children|Comedy|Fantasy   \n",
       "1                   Adventure|Children|Fantasy   \n",
       "2                               Comedy|Romance   \n",
       "3                         Comedy|Drama|Romance   \n",
       "4                                       Comedy   \n",
       "\n",
       "                                            tag  \\\n",
       "0                               pixar|pixar|fun   \n",
       "1  fantasy|magic board game|Robin Williams|game   \n",
       "2                                     moldy|old   \n",
       "3                                           NaN   \n",
       "4                              pregnancy|remake   \n",
       "\n",
       "                                                tags  \n",
       "0  pixar|pixar|fun Adventure Animation Children C...  \n",
       "1  fantasy|magic board game|Robin Williams|game A...  \n",
       "2                           moldy|old Comedy Romance  \n",
       "3                               Comedy Drama Romance  \n",
       "4                            pregnancy|remake Comedy  "
      ]
     },
     "execution_count": 13,
     "metadata": {},
     "output_type": "execute_result"
    }
   ],
   "source": [
    "movies.head()"
   ]
  },
  {
   "cell_type": "code",
   "execution_count": 14,
   "id": "9e42b7cc",
   "metadata": {},
   "outputs": [],
   "source": [
    "# Data Preparation untuk Content-Based\n",
    "data = movies[['movieId', 'title', 'tags']]\n",
    "data = data.rename(columns={'movieId': 'id', 'title': 'movie_title'})"
   ]
  },
  {
   "cell_type": "markdown",
   "id": "015b5931",
   "metadata": {},
   "source": [
    "Pada variabel ```data``` akan digunakan sebagai dataframe yang nantinya dibuat dalam permodelan Content-Based Filtering."
   ]
  },
  {
   "cell_type": "code",
   "execution_count": 15,
   "id": "38376dfa",
   "metadata": {},
   "outputs": [
    {
     "data": {
      "text/html": [
       "<div>\n",
       "<style scoped>\n",
       "    .dataframe tbody tr th:only-of-type {\n",
       "        vertical-align: middle;\n",
       "    }\n",
       "\n",
       "    .dataframe tbody tr th {\n",
       "        vertical-align: top;\n",
       "    }\n",
       "\n",
       "    .dataframe thead th {\n",
       "        text-align: right;\n",
       "    }\n",
       "</style>\n",
       "<table border=\"1\" class=\"dataframe\">\n",
       "  <thead>\n",
       "    <tr style=\"text-align: right;\">\n",
       "      <th></th>\n",
       "      <th>id</th>\n",
       "      <th>movie_title</th>\n",
       "      <th>tags</th>\n",
       "    </tr>\n",
       "  </thead>\n",
       "  <tbody>\n",
       "    <tr>\n",
       "      <th>0</th>\n",
       "      <td>1</td>\n",
       "      <td>Toy Story (1995)</td>\n",
       "      <td>pixar|pixar|fun Adventure Animation Children C...</td>\n",
       "    </tr>\n",
       "    <tr>\n",
       "      <th>1</th>\n",
       "      <td>2</td>\n",
       "      <td>Jumanji (1995)</td>\n",
       "      <td>fantasy|magic board game|Robin Williams|game A...</td>\n",
       "    </tr>\n",
       "    <tr>\n",
       "      <th>2</th>\n",
       "      <td>3</td>\n",
       "      <td>Grumpier Old Men (1995)</td>\n",
       "      <td>moldy|old Comedy Romance</td>\n",
       "    </tr>\n",
       "    <tr>\n",
       "      <th>3</th>\n",
       "      <td>4</td>\n",
       "      <td>Waiting to Exhale (1995)</td>\n",
       "      <td>Comedy Drama Romance</td>\n",
       "    </tr>\n",
       "    <tr>\n",
       "      <th>4</th>\n",
       "      <td>5</td>\n",
       "      <td>Father of the Bride Part II (1995)</td>\n",
       "      <td>pregnancy|remake Comedy</td>\n",
       "    </tr>\n",
       "  </tbody>\n",
       "</table>\n",
       "</div>"
      ],
      "text/plain": [
       "   id                         movie_title  \\\n",
       "0   1                    Toy Story (1995)   \n",
       "1   2                      Jumanji (1995)   \n",
       "2   3             Grumpier Old Men (1995)   \n",
       "3   4            Waiting to Exhale (1995)   \n",
       "4   5  Father of the Bride Part II (1995)   \n",
       "\n",
       "                                                tags  \n",
       "0  pixar|pixar|fun Adventure Animation Children C...  \n",
       "1  fantasy|magic board game|Robin Williams|game A...  \n",
       "2                           moldy|old Comedy Romance  \n",
       "3                               Comedy Drama Romance  \n",
       "4                            pregnancy|remake Comedy  "
      ]
     },
     "execution_count": 15,
     "metadata": {},
     "output_type": "execute_result"
    }
   ],
   "source": [
    "data.head()"
   ]
  },
  {
   "cell_type": "markdown",
   "id": "85e1dd7a",
   "metadata": {},
   "source": [
    "# Model Development: Content-Based Filtering"
   ]
  },
  {
   "cell_type": "code",
   "execution_count": 16,
   "id": "71b0f707",
   "metadata": {},
   "outputs": [],
   "source": [
    "# TF-IDF Vectorizer\n",
    "tfidf_vectorizer = TfidfVectorizer(analyzer='word', ngram_range=(1, 2), min_df=1, stop_words='english')\n",
    "tfidf_matrix = tfidf_vectorizer.fit_transform(data['tags'])"
   ]
  },
  {
   "cell_type": "markdown",
   "id": "7855f713",
   "metadata": {},
   "source": [
    "Mengubah teks pada kolom tags menjadi vektor numerik dengan menggunakan TF-IDF."
   ]
  },
  {
   "cell_type": "code",
   "execution_count": 17,
   "id": "82d7254f",
   "metadata": {},
   "outputs": [],
   "source": [
    "# Cosine Similarity\n",
    "cosine_sim = cosine_similarity(tfidf_matrix, tfidf_matrix)\n",
    "\n",
    "# Membuat dataframe similarity\n",
    "indices = pd.Series(data.index, index=data['movie_title']).drop_duplicates()"
   ]
  },
  {
   "cell_type": "markdown",
   "id": "c6f5813b",
   "metadata": {},
   "source": [
    " Dilakukan cosine similarity untuk melihat kemiripan antar vektor film yang mana semakin dekat maka akan dikatakan mirip. Kemudian dibuat index dengan code di bawah."
   ]
  },
  {
   "cell_type": "code",
   "execution_count": 18,
   "id": "3bc95c52",
   "metadata": {},
   "outputs": [],
   "source": [
    "# Fungsi rekomendasi\n",
    "def content_recommendations(title, cosine_sim=cosine_sim, df=data, k=5):\n",
    "    idx = indices[title]\n",
    "    sim_scores = list(enumerate(cosine_sim[idx]))\n",
    "    sim_scores = sorted(sim_scores, key=lambda x: x[1], reverse=True)\n",
    "    sim_scores = sim_scores[1:k+1]\n",
    "    movie_indices = [i[0] for i in sim_scores]\n",
    "    return df.iloc[movie_indices][['movie_title', 'tags']]"
   ]
  },
  {
   "cell_type": "markdown",
   "id": "d21a8396",
   "metadata": {},
   "source": [
    "Fungsi ini digunankan untuk mencari hasil rekomendasi, dengan mencari nama yang akan diubah ke dalam mapping dari indices. Lalu data akan mencari kemiripan dengan cosine_sim yang selanjutnya akan disusun 5 data yang sama sesuai dengan nilai k."
   ]
  },
  {
   "cell_type": "code",
   "execution_count": 19,
   "id": "1de39051",
   "metadata": {},
   "outputs": [
    {
     "data": {
      "text/html": [
       "<div>\n",
       "<style scoped>\n",
       "    .dataframe tbody tr th:only-of-type {\n",
       "        vertical-align: middle;\n",
       "    }\n",
       "\n",
       "    .dataframe tbody tr th {\n",
       "        vertical-align: top;\n",
       "    }\n",
       "\n",
       "    .dataframe thead th {\n",
       "        text-align: right;\n",
       "    }\n",
       "</style>\n",
       "<table border=\"1\" class=\"dataframe\">\n",
       "  <thead>\n",
       "    <tr style=\"text-align: right;\">\n",
       "      <th></th>\n",
       "      <th>id</th>\n",
       "      <th>movie_title</th>\n",
       "      <th>tags</th>\n",
       "    </tr>\n",
       "  </thead>\n",
       "  <tbody>\n",
       "    <tr>\n",
       "      <th>0</th>\n",
       "      <td>1</td>\n",
       "      <td>Toy Story (1995)</td>\n",
       "      <td>pixar|pixar|fun Adventure Animation Children C...</td>\n",
       "    </tr>\n",
       "  </tbody>\n",
       "</table>\n",
       "</div>"
      ],
      "text/plain": [
       "   id       movie_title                                               tags\n",
       "0   1  Toy Story (1995)  pixar|pixar|fun Adventure Animation Children C..."
      ]
     },
     "execution_count": 19,
     "metadata": {},
     "output_type": "execute_result"
    }
   ],
   "source": [
    "data[data.movie_title.eq('Toy Story (1995)')]"
   ]
  },
  {
   "cell_type": "markdown",
   "id": "4da339bf",
   "metadata": {},
   "source": [
    "Data yang diuji yaitu Toy Story dengan memperlihatkan tags yang didapat seperti Adventure, Animation, Children."
   ]
  },
  {
   "cell_type": "code",
   "execution_count": 20,
   "id": "da796054",
   "metadata": {},
   "outputs": [
    {
     "name": "stdout",
     "output_type": "stream",
     "text": [
      "\n",
      "Rekomendasi untuk 'Toy Story (1995)':\n"
     ]
    },
    {
     "data": {
      "text/html": [
       "<div>\n",
       "<style scoped>\n",
       "    .dataframe tbody tr th:only-of-type {\n",
       "        vertical-align: middle;\n",
       "    }\n",
       "\n",
       "    .dataframe tbody tr th {\n",
       "        vertical-align: top;\n",
       "    }\n",
       "\n",
       "    .dataframe thead th {\n",
       "        text-align: right;\n",
       "    }\n",
       "</style>\n",
       "<table border=\"1\" class=\"dataframe\">\n",
       "  <thead>\n",
       "    <tr style=\"text-align: right;\">\n",
       "      <th></th>\n",
       "      <th>movie_title</th>\n",
       "      <th>tags</th>\n",
       "    </tr>\n",
       "  </thead>\n",
       "  <tbody>\n",
       "    <tr>\n",
       "      <th>1757</th>\n",
       "      <td>Bug's Life, A (1998)</td>\n",
       "      <td>Pixar Adventure Animation Children Comedy</td>\n",
       "    </tr>\n",
       "    <tr>\n",
       "      <th>1706</th>\n",
       "      <td>Antz (1998)</td>\n",
       "      <td>Adventure Animation Children Comedy Fantasy</td>\n",
       "    </tr>\n",
       "    <tr>\n",
       "      <th>2809</th>\n",
       "      <td>Adventures of Rocky and Bullwinkle, The (2000)</td>\n",
       "      <td>Adventure Animation Children Comedy Fantasy</td>\n",
       "    </tr>\n",
       "    <tr>\n",
       "      <th>3000</th>\n",
       "      <td>Emperor's New Groove, The (2000)</td>\n",
       "      <td>Adventure Animation Children Comedy Fantasy</td>\n",
       "    </tr>\n",
       "    <tr>\n",
       "      <th>3568</th>\n",
       "      <td>Monsters, Inc. (2001)</td>\n",
       "      <td>Adventure Animation Children Comedy Fantasy</td>\n",
       "    </tr>\n",
       "  </tbody>\n",
       "</table>\n",
       "</div>"
      ],
      "text/plain": [
       "                                         movie_title  \\\n",
       "1757                            Bug's Life, A (1998)   \n",
       "1706                                     Antz (1998)   \n",
       "2809  Adventures of Rocky and Bullwinkle, The (2000)   \n",
       "3000                Emperor's New Groove, The (2000)   \n",
       "3568                           Monsters, Inc. (2001)   \n",
       "\n",
       "                                             tags  \n",
       "1757    Pixar Adventure Animation Children Comedy  \n",
       "1706  Adventure Animation Children Comedy Fantasy  \n",
       "2809  Adventure Animation Children Comedy Fantasy  \n",
       "3000  Adventure Animation Children Comedy Fantasy  \n",
       "3568  Adventure Animation Children Comedy Fantasy  "
      ]
     },
     "execution_count": 20,
     "metadata": {},
     "output_type": "execute_result"
    }
   ],
   "source": [
    "# Contoh rekomendasi\n",
    "print(\"\\nRekomendasi untuk 'Toy Story (1995)':\")\n",
    "content_recommendations('Toy Story (1995)')"
   ]
  },
  {
   "cell_type": "markdown",
   "id": "0be085b6",
   "metadata": {},
   "source": [
    "Didapatkan 5 hasil dengan tags yang mirip dengan Toy Story (1995). Kelima film ini menjadi rekomendasi yang mirip dan akan direkomendasikan."
   ]
  },
  {
   "cell_type": "markdown",
   "id": "0433d5bc",
   "metadata": {},
   "source": [
    "# Model Development: Collaborative Filtering"
   ]
  },
  {
   "cell_type": "code",
   "execution_count": 21,
   "id": "448ba711",
   "metadata": {},
   "outputs": [],
   "source": [
    "# Persiapan data\n",
    "user_ids = ratings['userId'].unique().tolist()\n",
    "movie_ids = ratings['movieId'].unique().tolist()"
   ]
  },
  {
   "cell_type": "markdown",
   "id": "27f48f19",
   "metadata": {},
   "source": [
    "Mendapatkan daftar dengan Id yang unik dari user dan film untuk digunakan dalam basis encoding."
   ]
  },
  {
   "cell_type": "code",
   "execution_count": 22,
   "id": "791fd4ef",
   "metadata": {},
   "outputs": [],
   "source": [
    "# Encoding IDs\n",
    "user_to_user_encoded = {x: i for i, x in enumerate(user_ids)}\n",
    "user_encoded_to_user = {i: x for i, x in enumerate(user_ids)}\n",
    "movie_to_movie_encoded = {x: i for i, x in enumerate(movie_ids)}\n",
    "movie_encoded_to_movie = {i: x for i, x in enumerate(movie_ids)}"
   ]
  },
  {
   "cell_type": "markdown",
   "id": "6aa6fc0f",
   "metadata": {},
   "source": [
    "Membuat peta encoding dari userId dan movieId ke integer untuk ke TensorFlow embedding layer."
   ]
  },
  {
   "cell_type": "code",
   "execution_count": 23,
   "id": "7133e48e",
   "metadata": {},
   "outputs": [],
   "source": [
    "# Mapping ke dataframe\n",
    "ratings['user'] = ratings['userId'].map(user_to_user_encoded)\n",
    "ratings['movie'] = ratings['movieId'].map(movie_to_movie_encoded)"
   ]
  },
  {
   "cell_type": "markdown",
   "id": "a0e28765",
   "metadata": {},
   "source": [
    "Menambahkan kolom user dan movie ke dalam ratings."
   ]
  },
  {
   "cell_type": "code",
   "execution_count": 24,
   "id": "d58c4c73",
   "metadata": {},
   "outputs": [],
   "source": [
    "# Normalisasi rating\n",
    "min_rating = min(ratings['rating'])\n",
    "max_rating = max(ratings['rating'])\n",
    "ratings['rating'] = ratings['rating'].apply(lambda x: (x - min_rating) / (max_rating - min_rating))"
   ]
  },
  {
   "cell_type": "markdown",
   "id": "5bac89da",
   "metadata": {},
   "source": [
    "Menyesuaikan nilai rating agar berada di antara 0-1, karena model menggunakan sigmoid dan loss BinaryCrossentropy(), yang mengharuskan label dalam range tersebut."
   ]
  },
  {
   "cell_type": "code",
   "execution_count": 25,
   "id": "a1c94660",
   "metadata": {},
   "outputs": [],
   "source": [
    "# Split data\n",
    "x = ratings[['user', 'movie']].values\n",
    "y = ratings['rating'].values\n",
    "train_indices = int(0.8 * len(x))\n",
    "x_train, x_val, y_train, y_val = (\n",
    "    x[:train_indices],\n",
    "    x[train_indices:],\n",
    "    y[:train_indices],\n",
    "    y[train_indices:]\n",
    ")"
   ]
  },
  {
   "cell_type": "markdown",
   "id": "64c3ae18",
   "metadata": {},
   "source": [
    "Menyusun input x dan y, kemudian mengatur split data untuk training dengan perbandingan 80:20."
   ]
  },
  {
   "cell_type": "markdown",
   "id": "caeb47c3",
   "metadata": {},
   "source": [
    "## Model Neural Network"
   ]
  },
  {
   "cell_type": "code",
   "execution_count": 26,
   "id": "228bbe7c",
   "metadata": {},
   "outputs": [],
   "source": [
    "class RecommenderNet(keras.Model):\n",
    "    def __init__(self, num_users, num_movies, embedding_size, **kwargs):\n",
    "        super(RecommenderNet, self).__init__(**kwargs)\n",
    "        self.num_users = num_users\n",
    "        self.num_movies = num_movies\n",
    "        self.embedding_size = embedding_size\n",
    "        self.user_embedding = layers.Embedding(\n",
    "            num_users,\n",
    "            embedding_size,\n",
    "            embeddings_initializer='he_normal',\n",
    "            embeddings_regularizer=keras.regularizers.l2(1e-6)\n",
    "        )\n",
    "        self.user_bias = layers.Embedding(num_users, 1)\n",
    "        self.movie_embedding = layers.Embedding(\n",
    "            num_movies,\n",
    "            embedding_size,\n",
    "            embeddings_initializer='he_normal',\n",
    "            embeddings_regularizer=keras.regularizers.l2(1e-6)\n",
    "        )\n",
    "        self.movie_bias = layers.Embedding(num_movies, 1)\n",
    "\n",
    "    def call(self, inputs):\n",
    "        user_vector = self.user_embedding(inputs[:, 0])\n",
    "        user_bias = self.user_bias(inputs[:, 0])\n",
    "        movie_vector = self.movie_embedding(inputs[:, 1])\n",
    "        movie_bias = self.movie_bias(inputs[:, 1])\n",
    "        dot_user_movie = tf.tensordot(user_vector, movie_vector, 2)\n",
    "        x = dot_user_movie + user_bias + movie_bias\n",
    "        return tf.nn.sigmoid(x)"
   ]
  },
  {
   "cell_type": "markdown",
   "id": "3ada4dd5",
   "metadata": {},
   "source": [
    "RecommenderNet ini membuat model rekomendasi berbasis Collaborative Filtering yang menggunakan pendekatan matrix factorization dengan embedding layer di TensorFlow/Keras. Model ini mempelajari representasi (embedding) dari User dan Movie, kemudian akan menghitung prediksi rating berdasarkan dot product ditambah bias."
   ]
  },
  {
   "cell_type": "code",
   "execution_count": 27,
   "id": "273ea713",
   "metadata": {},
   "outputs": [],
   "source": [
    "# Inisialisasi model\n",
    "num_users = len(user_to_user_encoded)\n",
    "num_movies = len(movie_encoded_to_movie)\n",
    "model = RecommenderNet(num_users, num_movies, 50)\n",
    "\n",
    "# Compile model\n",
    "model.compile(\n",
    "    loss=tf.keras.losses.BinaryCrossentropy(),\n",
    "    optimizer=tf.keras.optimizers.Adam(learning_rate=0.001),\n",
    "    metrics=[tf.keras.metrics.RootMeanSquaredError()]\n",
    ")"
   ]
  },
  {
   "cell_type": "markdown",
   "id": "f3ef84ae",
   "metadata": {},
   "source": [
    "Langkah ini menyiapkan model agar siap dilatih pada data dari user dan movie untuk ke rating. Kemudian, model ini digunakan ke .fit() dengan data training dan validasi."
   ]
  },
  {
   "cell_type": "markdown",
   "id": "9918026c",
   "metadata": {},
   "source": [
    "# Evaluasi"
   ]
  },
  {
   "cell_type": "code",
   "execution_count": null,
   "id": "00fb7db7",
   "metadata": {},
   "outputs": [
    {
     "name": "stdout",
     "output_type": "stream",
     "text": [
      "Epoch 1/20\n",
      "\u001b[1m1261/1261\u001b[0m \u001b[32m━━━━━━━━━━━━━━━━━━━━\u001b[0m\u001b[37m\u001b[0m \u001b[1m10s\u001b[0m 6ms/step - loss: 0.6560 - root_mean_squared_error: 0.2520 - val_loss: 0.6808 - val_root_mean_squared_error: 0.2682\n",
      "Epoch 2/20\n",
      "\u001b[1m1261/1261\u001b[0m \u001b[32m━━━━━━━━━━━━━━━━━━━━\u001b[0m\u001b[37m\u001b[0m \u001b[1m7s\u001b[0m 6ms/step - loss: 0.6149 - root_mean_squared_error: 0.2120 - val_loss: 0.6750 - val_root_mean_squared_error: 0.2626\n",
      "Epoch 3/20\n",
      "\u001b[1m1261/1261\u001b[0m \u001b[32m━━━━━━━━━━━━━━━━━━━━\u001b[0m\u001b[37m\u001b[0m \u001b[1m8s\u001b[0m 6ms/step - loss: 0.6080 - root_mean_squared_error: 0.2051 - val_loss: 0.6704 - val_root_mean_squared_error: 0.2581\n",
      "Epoch 4/20\n",
      "\u001b[1m1261/1261\u001b[0m \u001b[32m━━━━━━━━━━━━━━━━━━━━\u001b[0m\u001b[37m\u001b[0m \u001b[1m8s\u001b[0m 6ms/step - loss: 0.6064 - root_mean_squared_error: 0.2015 - val_loss: 0.6672 - val_root_mean_squared_error: 0.2549\n",
      "Epoch 5/20\n",
      "\u001b[1m1261/1261\u001b[0m \u001b[32m━━━━━━━━━━━━━━━━━━━━\u001b[0m\u001b[37m\u001b[0m \u001b[1m8s\u001b[0m 6ms/step - loss: 0.6051 - root_mean_squared_error: 0.2019 - val_loss: 0.6649 - val_root_mean_squared_error: 0.2525\n",
      "Epoch 6/20\n",
      "\u001b[1m1261/1261\u001b[0m \u001b[32m━━━━━━━━━━━━━━━━━━━━\u001b[0m\u001b[37m\u001b[0m \u001b[1m7s\u001b[0m 6ms/step - loss: 0.6052 - root_mean_squared_error: 0.2012 - val_loss: 0.6630 - val_root_mean_squared_error: 0.2505\n",
      "Epoch 7/20\n",
      "\u001b[1m1261/1261\u001b[0m \u001b[32m━━━━━━━━━━━━━━━━━━━━\u001b[0m\u001b[37m\u001b[0m \u001b[1m7s\u001b[0m 5ms/step - loss: 0.6031 - root_mean_squared_error: 0.1997 - val_loss: 0.6614 - val_root_mean_squared_error: 0.2489\n",
      "Epoch 8/20\n",
      "\u001b[1m1261/1261\u001b[0m \u001b[32m━━━━━━━━━━━━━━━━━━━━\u001b[0m\u001b[37m\u001b[0m \u001b[1m8s\u001b[0m 6ms/step - loss: 0.6046 - root_mean_squared_error: 0.2003 - val_loss: 0.6608 - val_root_mean_squared_error: 0.2482\n",
      "Epoch 9/20\n",
      "\u001b[1m1261/1261\u001b[0m \u001b[32m━━━━━━━━━━━━━━━━━━━━\u001b[0m\u001b[37m\u001b[0m \u001b[1m8s\u001b[0m 6ms/step - loss: 0.6028 - root_mean_squared_error: 0.1973 - val_loss: 0.6598 - val_root_mean_squared_error: 0.2471\n",
      "Epoch 10/20\n",
      "\u001b[1m1261/1261\u001b[0m \u001b[32m━━━━━━━━━━━━━━━━━━━━\u001b[0m\u001b[37m\u001b[0m \u001b[1m7s\u001b[0m 6ms/step - loss: 0.6018 - root_mean_squared_error: 0.1962 - val_loss: 0.6585 - val_root_mean_squared_error: 0.2457\n",
      "Epoch 11/20\n",
      "\u001b[1m1261/1261\u001b[0m \u001b[32m━━━━━━━━━━━━━━━━━━━━\u001b[0m\u001b[37m\u001b[0m \u001b[1m7s\u001b[0m 6ms/step - loss: 0.6031 - root_mean_squared_error: 0.1962 - val_loss: 0.6575 - val_root_mean_squared_error: 0.2447\n",
      "Epoch 12/20\n",
      "\u001b[1m1261/1261\u001b[0m \u001b[32m━━━━━━━━━━━━━━━━━━━━\u001b[0m\u001b[37m\u001b[0m \u001b[1m7s\u001b[0m 6ms/step - loss: 0.6024 - root_mean_squared_error: 0.1963 - val_loss: 0.6570 - val_root_mean_squared_error: 0.2441\n",
      "Epoch 13/20\n",
      "\u001b[1m1261/1261\u001b[0m \u001b[32m━━━━━━━━━━━━━━━━━━━━\u001b[0m\u001b[37m\u001b[0m \u001b[1m6s\u001b[0m 5ms/step - loss: 0.6011 - root_mean_squared_error: 0.1944 - val_loss: 0.6565 - val_root_mean_squared_error: 0.2435\n",
      "Epoch 14/20\n",
      "\u001b[1m1261/1261\u001b[0m \u001b[32m━━━━━━━━━━━━━━━━━━━━\u001b[0m\u001b[37m\u001b[0m \u001b[1m7s\u001b[0m 5ms/step - loss: 0.5997 - root_mean_squared_error: 0.1944 - val_loss: 0.6560 - val_root_mean_squared_error: 0.2429\n",
      "Epoch 15/20\n",
      "\u001b[1m1261/1261\u001b[0m \u001b[32m━━━━━━━━━━━━━━━━━━━━\u001b[0m\u001b[37m\u001b[0m \u001b[1m6s\u001b[0m 5ms/step - loss: 0.6015 - root_mean_squared_error: 0.1945 - val_loss: 0.6556 - val_root_mean_squared_error: 0.2424\n",
      "Epoch 16/20\n",
      "\u001b[1m1261/1261\u001b[0m \u001b[32m━━━━━━━━━━━━━━━━━━━━\u001b[0m\u001b[37m\u001b[0m \u001b[1m7s\u001b[0m 5ms/step - loss: 0.6008 - root_mean_squared_error: 0.1932 - val_loss: 0.6553 - val_root_mean_squared_error: 0.2420\n",
      "Epoch 17/20\n",
      "\u001b[1m1261/1261\u001b[0m \u001b[32m━━━━━━━━━━━━━━━━━━━━\u001b[0m\u001b[37m\u001b[0m \u001b[1m6s\u001b[0m 5ms/step - loss: 0.5998 - root_mean_squared_error: 0.1920 - val_loss: 0.6551 - val_root_mean_squared_error: 0.2418\n",
      "Epoch 18/20\n",
      "\u001b[1m1261/1261\u001b[0m \u001b[32m━━━━━━━━━━━━━━━━━━━━\u001b[0m\u001b[37m\u001b[0m \u001b[1m7s\u001b[0m 6ms/step - loss: 0.6024 - root_mean_squared_error: 0.1940 - val_loss: 0.6549 - val_root_mean_squared_error: 0.2415\n",
      "Epoch 19/20\n",
      "\u001b[1m1261/1261\u001b[0m \u001b[32m━━━━━━━━━━━━━━━━━━━━\u001b[0m\u001b[37m\u001b[0m \u001b[1m8s\u001b[0m 6ms/step - loss: 0.6012 - root_mean_squared_error: 0.1924 - val_loss: 0.6545 - val_root_mean_squared_error: 0.2410\n",
      "Epoch 20/20\n",
      "\u001b[1m1261/1261\u001b[0m \u001b[32m━━━━━━━━━━━━━━━━━━━━\u001b[0m\u001b[37m\u001b[0m \u001b[1m7s\u001b[0m 6ms/step - loss: 0.6025 - root_mean_squared_error: 0.1957 - val_loss: 0.6544 - val_root_mean_squared_error: 0.2409\n"
     ]
    }
   ],
   "source": [
    "# Melakukan training model\n",
    "history = model.fit(\n",
    "    x=x_train,\n",
    "    y=y_train,\n",
    "    batch_size=64,\n",
    "    epochs=20,\n",
    "    validation_data=(x_val, y_val)\n",
    ")"
   ]
  },
  {
   "cell_type": "markdown",
   "id": "3ff5ec0b",
   "metadata": {},
   "source": [
    "Proses training dari model terlihat terus membaik dengan hasil akhir RMSE 0,1957 dan validation di 0,2409."
   ]
  },
  {
   "cell_type": "code",
   "execution_count": null,
   "id": "4c3f305e",
   "metadata": {},
   "outputs": [],
   "source": [
    "# Visualisasi metrik\n",
    "plt.plot(history.history['root_mean_squared_error'])\n",
    "plt.plot(history.history['val_root_mean_squared_error'])\n",
    "plt.title('Model Metrics')\n",
    "plt.ylabel('RMSE')\n",
    "plt.xlabel('Epoch')\n",
    "plt.legend(['Train', 'Validation'], loc='upper left')\n",
    "plt.show()"
   ]
  },
  {
   "cell_type": "markdown",
   "id": "9c3151cd",
   "metadata": {},
   "source": [
    "Dilihat dari grafik  selama training terlihat bahwa nilai RMSE pada training dan validasi menurun secara konsisten, walaupun ada gap yang membuat selisih kedua nilai, namun gap ini masih dalam batas wajar."
   ]
  },
  {
   "cell_type": "code",
   "execution_count": null,
   "id": "8d3a9bb7",
   "metadata": {},
   "outputs": [],
   "source": [
    "# Mendapatkan rekomendasi\n",
    "def get_recommendations(user_id, k=10):\n",
    "    movies_watched = ratings[ratings['userId'] == user_id]\n",
    "    movies_not_watched = movies[~movies['movieId'].isin(movies_watched['movieId'].values)]\n",
    "    movies_not_watched = list(set(movies_not_watched['movieId']).intersection(set(movie_to_movie_encoded.keys())))\n",
    "    movies_not_watched = [[movie_to_movie_encoded.get(x)] for x in movies_not_watched]\n",
    "    user_encoder = user_to_user_encoded.get(user_id)\n",
    "    user_movie_array = np.hstack(([[user_encoder]] * len(movies_not_watched), movies_not_watched))\n",
    "    ratings_pred = model.predict(user_movie_array).flatten()\n",
    "    top_ratings_indices = ratings_pred.argsort()[-k:][::-1]\n",
    "    recommended_movie_ids = [movie_encoded_to_movie.get(movies_not_watched[x][0]) for x in top_ratings_indices]\n",
    "        \n",
    "    print(f\"Rekomendasi untuk user {user_id}:\")\n",
    "    print(\"====\"*10)\n",
    "    print(\"Film dengan rating tinggi dari user:\")\n",
    "    top_movies_user = movies_watched.sort_values(by='rating', ascending=False).head(5).merge(movies, left_on='movieId', right_on='movieId')\n",
    "    for row in top_movies_user.itertuples():\n",
    "        print(row.title, \"-\", row.genres)\n",
    "    \n",
    "    print(\"====\"*10)\n",
    "    print(\"Top 10 rekomendasi film:\")\n",
    "    recommended_movies = movies[movies['movieId'].isin(recommended_movie_ids)]\n",
    "    for row in recommended_movies.itertuples():\n",
    "        print(row.title, \"-\", row.genres)"
   ]
  },
  {
   "cell_type": "markdown",
   "id": "2e0bce11",
   "metadata": {},
   "source": [
    "get_recommendations akan mencarikan fungsi untuk rekomendasi dari rating, dengan cara mencari riwayat rating yang diberikan oleh user. Dengan mencari sesuai id dari user dan kemudian akan dihasilkan 10 rekomendasi sesuai dengan nilai k yang ada."
   ]
  },
  {
   "cell_type": "code",
   "execution_count": 31,
   "id": "874fa043",
   "metadata": {},
   "outputs": [
    {
     "name": "stdout",
     "output_type": "stream",
     "text": [
      "\u001b[1m297/297\u001b[0m \u001b[32m━━━━━━━━━━━━━━━━━━━━\u001b[0m\u001b[37m\u001b[0m \u001b[1m1s\u001b[0m 2ms/step\n",
      "Rekomendasi untuk user 1:\n",
      "========================================\n",
      "Film dengan rating tinggi dari user:\n",
      "M*A*S*H (a.k.a. MASH) (1970) - Comedy|Drama|War\n",
      "Excalibur (1981) - Adventure|Fantasy\n",
      "Indiana Jones and the Last Crusade (1989) - Action|Adventure\n",
      "Pink Floyd: The Wall (1982) - Drama|Musical\n",
      "From Russia with Love (1963) - Action|Adventure|Thriller\n",
      "========================================\n",
      "Top 10 rekomendasi film:\n",
      "Shawshank Redemption, The (1994) - Crime|Drama\n",
      "Dr. Strangelove or: How I Learned to Stop Worrying and Love the Bomb (1964) - Comedy|War\n",
      "Philadelphia Story, The (1940) - Comedy|Drama|Romance\n",
      "Rear Window (1954) - Mystery|Thriller\n",
      "North by Northwest (1959) - Action|Adventure|Mystery|Romance|Thriller\n",
      "Casablanca (1942) - Drama|Romance\n",
      "Ran (1985) - Drama|War\n",
      "Trial, The (Procès, Le) (1962) - Drama\n",
      "The Artist (2011) - Comedy|Drama|Romance\n",
      "Three Billboards Outside Ebbing, Missouri (2017) - Crime|Drama\n"
     ]
    }
   ],
   "source": [
    "# Rekomendasi untuk user 1\n",
    "get_recommendations(1)"
   ]
  }
 ],
 "metadata": {
  "kernelspec": {
   "display_name": "Python 3",
   "language": "python",
   "name": "python3"
  },
  "language_info": {
   "codemirror_mode": {
    "name": "ipython",
    "version": 3
   },
   "file_extension": ".py",
   "mimetype": "text/x-python",
   "name": "python",
   "nbconvert_exporter": "python",
   "pygments_lexer": "ipython3",
   "version": "3.12.7"
  }
 },
 "nbformat": 4,
 "nbformat_minor": 5
}
